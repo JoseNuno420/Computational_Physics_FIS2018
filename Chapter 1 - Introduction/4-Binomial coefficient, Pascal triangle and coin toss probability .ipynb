{
 "cells": [
  {
   "cell_type": "code",
   "execution_count": 2,
   "id": "ed0383fe",
   "metadata": {},
   "outputs": [],
   "source": [
    "import math\n",
    "import numpy as np\n",
    "\n",
    "def binomial (n,k):\n",
    "    if k == 0:\n",
    "        return 1\n",
    "    else:\n",
    "        return int(math.factorial(n)/(math.factorial(k)*math.factorial(n-k)))"
   ]
  },
  {
   "cell_type": "code",
   "execution_count": 4,
   "id": "bb693784",
   "metadata": {},
   "outputs": [
    {
     "name": "stdout",
     "output_type": "stream",
     "text": [
      "11\n",
      "121\n",
      "1331\n",
      "14641\n",
      "15101051\n",
      "1615201561\n",
      "172135352171\n",
      "18285670562881\n",
      "193684126126843691\n",
      "1104512021025221012045101\n",
      "1115516533046246233016555111\n",
      "1126622049579292479249522066121\n",
      "11378286715128717161716128771528678131\n",
      "11491364100120023003343230032002100136491141\n",
      "11510545513653003500564356435500530031365455105151\n",
      "116120560182043688008114401287011440800843681820560120161\n",
      "1171366802380618812376194482431024310194481237661882380680136171\n",
      "118153816306085681856431824437584862043758318241856485683060816153181\n",
      "1191719693876116282713250388755829237892378755825038827132116283876969171191\n"
     ]
    }
   ],
   "source": [
    "n = 20\n",
    "for i in range(1,n):\n",
    "    for j in range(i+1):\n",
    "        print(binomial(i,j),end='')\n",
    "    print()"
   ]
  },
  {
   "cell_type": "code",
   "execution_count": 5,
   "id": "855fd5fd",
   "metadata": {},
   "outputs": [
    {
     "name": "stdout",
     "output_type": "stream",
     "text": [
      "0.010843866711637987\n",
      "0.028443966820490392\n"
     ]
    }
   ],
   "source": [
    "def prob(n,k):\n",
    "    return (binomial(n,k))/(2**n)\n",
    "\n",
    "print(prob(100,60))\n",
    "\n",
    "x = 0\n",
    "for i in range(60,101):\n",
    "    x += prob(100,i)\n",
    "\n",
    "print(x)"
   ]
  }
 ],
 "metadata": {
  "kernelspec": {
   "display_name": "Python 3 (ipykernel)",
   "language": "python",
   "name": "python3"
  },
  "language_info": {
   "codemirror_mode": {
    "name": "ipython",
    "version": 3
   },
   "file_extension": ".py",
   "mimetype": "text/x-python",
   "name": "python",
   "nbconvert_exporter": "python",
   "pygments_lexer": "ipython3",
   "version": "3.9.7"
  }
 },
 "nbformat": 4,
 "nbformat_minor": 5
}
