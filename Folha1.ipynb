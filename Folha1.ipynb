{
 "cells": [
  {
   "cell_type": "markdown",
   "metadata": {},
   "source": [
    "## Ex.1"
   ]
  },
  {
   "cell_type": "code",
   "execution_count": 112,
   "metadata": {},
   "outputs": [
    {
     "name": "stdout",
     "output_type": "stream",
     "text": [
      "Distância do Planeta ao Sol:1\n",
      "Velocidade no periélio:1\n",
      "('l2 é', 3.766519319074958e-21, ' v2 é', 2.6549711159999998e+20, 'o período orbital é', 1.9280574589033983e-10, ' e a excentricidade orbital é', -1.0)\n"
     ]
    }
   ],
   "source": [
    "import math\n",
    "def orbita(x):\n",
    "    l1 = int(input(\"Distância do Planeta ao Sol:\"))\n",
    "    v1 = int(input(\"Velocidade no periélio:\"))\n",
    "    \n",
    "    M = 1.9891*10**30 #Massa do Sol\n",
    "    G = 6.6738*10**-11 #constande de Gravitação Universal\n",
    "    \n",
    "    v2 = (G*M/(v1*l1)) + math.sqrt(((G*M/(v1*l1))**2)+ 2*G*M/l1 - v1)\n",
    "    l2 = l1*v1/v2\n",
    "    \n",
    "    a = 0.5 * (l1 + l2)\n",
    "    b = math.sqrt(l1*l2)\n",
    "    T = 2*math.pi*a*b/(l1*v1)\n",
    "    e = (l2-l1)/(l2+l1)\n",
    "    \n",
    "    return (\"l2 é\",l2,\" v2 é\",v2,\"o período orbital é\",T,\" e a excentricidade orbital é\",e)\n",
    "\n",
    "print(orbita(1))"
   ]
  },
  {
   "cell_type": "markdown",
   "metadata": {},
   "source": [
    "## Ex.2"
   ]
  },
  {
   "cell_type": "code",
   "execution_count": 35,
   "metadata": {},
   "outputs": [
    {
     "name": "stdout",
     "output_type": "stream",
     "text": [
      "1\n",
      "1\n",
      "2.5\n",
      "7.0\n",
      "21.0\n",
      "66.0\n",
      "214.5\n",
      "715.0\n",
      "2431.0\n",
      "8398.0\n",
      "29393.0\n",
      "104006.0\n",
      "371450.0\n",
      "1337220.0\n",
      "4847422.5\n",
      "17678835.0\n",
      "64822395.0\n",
      "238819350.0\n",
      "883631595.0\n"
     ]
    }
   ],
   "source": [
    "def Catalan(n):\n",
    "    s = 0\n",
    "    if n <= 1:\n",
    "        return 1\n",
    "    else:\n",
    "        s += ((4*n+2)/(n+2)) * Catalan(n-1)\n",
    "    return s\n",
    "\n",
    "for i in range(20):\n",
    "    if Catalan(i) <= 1000000000:\n",
    "        print (Catalan(i))"
   ]
  },
  {
   "cell_type": "markdown",
   "metadata": {},
   "source": [
    "## Ex.3"
   ]
  },
  {
   "cell_type": "code",
   "execution_count": 79,
   "metadata": {},
   "outputs": [
    {
     "name": "stdout",
     "output_type": "stream",
     "text": [
      "Constante de Mandelung: -1.7418198158396654\n",
      "Tempo para calcular: 10.829770565032959\n"
     ]
    }
   ],
   "source": [
    "from math import sqrt\n",
    "import time\n",
    "def Mandelung(L):\n",
    "    M = 0.0 \n",
    "    for i in range(-L, L+1):\n",
    "        for j in range(-L, L+1):\n",
    "            for k in range(-L, L+1):\n",
    "                if not( i==0 and j==0 and k==0):\n",
    "                    if(i+j+k)%2==0: \n",
    "                        # ião positivo\n",
    "                        M += 1/sqrt(i*i + j*j + k*k)\n",
    "                    else: \n",
    "                        # ião negativo\n",
    "                        M -= 1/sqrt(i*i + j*j + k*k)\n",
    "    return M\n",
    "t0 =time.time()\n",
    "Mandelung(50)\n",
    "print(\"Constante de Mandelung:\",Mandelung(100))\n",
    "t1 = time.time()\n",
    "print(\"Tempo para calcular:\",t1-t0)"
   ]
  },
  {
   "cell_type": "markdown",
   "metadata": {},
   "source": [
    "## Ex.4 "
   ]
  },
  {
   "cell_type": "markdown",
   "metadata": {},
   "source": [
    "### 1)"
   ]
  },
  {
   "cell_type": "code",
   "execution_count": 67,
   "metadata": {},
   "outputs": [],
   "source": [
    "def binomial (n,k):\n",
    "    if k == 0:\n",
    "        return 1\n",
    "    else:\n",
    "        return int(math.factorial(n)/(math.factorial(k)*math.factorial(n-k)))"
   ]
  },
  {
   "cell_type": "markdown",
   "metadata": {},
   "source": [
    "### 2)"
   ]
  },
  {
   "cell_type": "code",
   "execution_count": 70,
   "metadata": {},
   "outputs": [
    {
     "name": "stdout",
     "output_type": "stream",
     "text": [
      "11\n",
      "121\n",
      "1331\n",
      "14641\n",
      "15101051\n",
      "1615201561\n",
      "172135352171\n",
      "18285670562881\n",
      "193684126126843691\n",
      "1104512021025221012045101\n",
      "1115516533046246233016555111\n",
      "1126622049579292479249522066121\n",
      "11378286715128717161716128771528678131\n",
      "11491364100120023003343230032002100136491141\n",
      "11510545513653003500564356435500530031365455105151\n",
      "116120560182043688008114401287011440800843681820560120161\n",
      "1171366802380618812376194482431024310194481237661882380680136171\n",
      "118153816306085681856431824437584862043758318241856485683060816153181\n",
      "1191719693876116282713250388755829237892378755825038827132116283876969171191\n"
     ]
    }
   ],
   "source": [
    "n = 20\n",
    "for i in range(1,n):\n",
    "    for j in range(i+1):\n",
    "        print(binomial(i,j),end='')\n",
    "    print()"
   ]
  },
  {
   "cell_type": "markdown",
   "metadata": {},
   "source": [
    "### 3)"
   ]
  },
  {
   "cell_type": "code",
   "execution_count": 110,
   "metadata": {},
   "outputs": [
    {
     "name": "stdout",
     "output_type": "stream",
     "text": [
      "0.010843866711637987\n",
      "0.028443966820490392\n"
     ]
    }
   ],
   "source": [
    "def prob(n,k):\n",
    "    return (binomial(n,k))/(2**n)\n",
    "\n",
    "print(prob(100,60))\n",
    "\n",
    "x = 0\n",
    "for i in range(60,101):\n",
    "    x += prob(100,i)\n",
    "\n",
    "print(x)"
   ]
  },
  {
   "cell_type": "markdown",
   "metadata": {},
   "source": [
    "## Ex.5"
   ]
  },
  {
   "cell_type": "code",
   "execution_count": 99,
   "metadata": {},
   "outputs": [],
   "source": [
    "import math\n",
    "def primo(lim):\n",
    "    primos = [2]\n",
    "    n = 3\n",
    "    while n <= lim:\n",
    "        for primo in primos:\n",
    "            if n % primo == 0:\n",
    "                break\n",
    "            elif primo > math.sqrt(n):\n",
    "                primos.append(n)\n",
    "                break\n",
    "        n += 1\n",
    "    return primos\n",
    "\n",
    "#print(primo(10000))"
   ]
  },
  {
   "cell_type": "markdown",
   "metadata": {},
   "source": [
    "## Ex.6 "
   ]
  },
  {
   "cell_type": "markdown",
   "metadata": {},
   "source": [
    "### 1) "
   ]
  },
  {
   "cell_type": "code",
   "execution_count": 108,
   "metadata": {},
   "outputs": [],
   "source": [
    "def Cn(n):\n",
    "    if n == 0:\n",
    "        return 1\n",
    "    else:\n",
    "        return ((4*n - 2)/(n+1))*Cn(n-1)\n",
    "\n",
    "#print(Cn(100))"
   ]
  },
  {
   "cell_type": "markdown",
   "metadata": {},
   "source": [
    "### 2) "
   ]
  },
  {
   "cell_type": "code",
   "execution_count": 109,
   "metadata": {},
   "outputs": [],
   "source": [
    "def g(m,n):\n",
    "    if n == 0:\n",
    "        return m\n",
    "    else:\n",
    "        return g(n,m%n)\n",
    "\n",
    "#print(g(108,192))"
   ]
  }
 ],
 "metadata": {
  "kernelspec": {
   "display_name": "Python 3",
   "language": "python",
   "name": "python3"
  },
  "language_info": {
   "codemirror_mode": {
    "name": "ipython",
    "version": 3
   },
   "file_extension": ".py",
   "mimetype": "text/x-python",
   "name": "python",
   "nbconvert_exporter": "python",
   "pygments_lexer": "ipython3",
   "version": "3.8.5"
  }
 },
 "nbformat": 4,
 "nbformat_minor": 4
}
